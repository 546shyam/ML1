{
  "nbformat": 4,
  "nbformat_minor": 0,
  "metadata": {
    "colab": {
      "name": "Shyam_Sundar.ipynb",
      "provenance": [],
      "collapsed_sections": []
    },
    "kernelspec": {
      "name": "python3",
      "display_name": "Python 3"
    }
  },
  "cells": [
    {
      "cell_type": "markdown",
      "metadata": {
        "id": "gxJNpHBUWFJF"
      },
      "source": [
        "** **CLASSIFICATION OF FLOWER** USING **K-NEAREST** **ALGORITHM** **"
      ]
    },
    {
      "cell_type": "code",
      "metadata": {
        "id": "x3NbVofoO7ET"
      },
      "source": [
        "#importing the datasets from sklearn and we are defining a function[load_iris()] which loads the datasets in variable[iris_dataset] \r\n",
        "from sklearn.datasets import load_iris\r\n",
        "iris_dataset = load_iris()\r\n"
      ],
      "execution_count": 80,
      "outputs": []
    },
    {
      "cell_type": "code",
      "metadata": {
        "colab": {
          "base_uri": "https://localhost:8080/"
        },
        "id": "6puhTXR6Vb_T",
        "outputId": "5932abf4-ebe6-4659-f992-dd54c4583332"
      },
      "source": [
        "#dataset is in the dict() form ,so we r gonna view the keys\r\n",
        "print(\"Keys of dataset: \\n{}\".format(iris_dataset.keys()))"
      ],
      "execution_count": 81,
      "outputs": [
        {
          "output_type": "stream",
          "text": [
            "Keys of dataset: \n",
            "dict_keys(['data', 'target', 'target_names', 'DESCR', 'feature_names', 'filename'])\n"
          ],
          "name": "stdout"
        }
      ]
    },
    {
      "cell_type": "code",
      "metadata": {
        "id": "DH9TxBtiVnak"
      },
      "source": [
        "##Now , we are gonna see values of each keys ;\r\n",
        "#Values of key('DESCR') : it contains the description of the dataset\r\n",
        "#and we will slice the (descr) from [0th - n(last)th character] \r\n",
        "print(iris_dataset['DESCR'][:]+ \"\\n....\")"
      ],
      "execution_count": null,
      "outputs": []
    },
    {
      "cell_type": "code",
      "metadata": {
        "colab": {
          "base_uri": "https://localhost:8080/"
        },
        "id": "E2k3ITbyZEyM",
        "outputId": "8fefa675-74f5-49f2-908e-4994876c9275"
      },
      "source": [
        "#Values of key('target_names') : as the name suggests , it contains the target names or labels\r\n",
        "print(\"Target names:\") \r\n",
        "print(iris_dataset['target_names'])"
      ],
      "execution_count": 83,
      "outputs": [
        {
          "output_type": "stream",
          "text": [
            "Target names:\n",
            "['setosa' 'versicolor' 'virginica']\n"
          ],
          "name": "stdout"
        }
      ]
    },
    {
      "cell_type": "code",
      "metadata": {
        "colab": {
          "base_uri": "https://localhost:8080/"
        },
        "id": "mYzPbklCa0CM",
        "outputId": "82df2831-3e6e-455d-e77c-ef783fdc155f"
      },
      "source": [
        "#Values of key('feature_names'): contains the ways the data is distributed\r\n",
        "print(\"Feature Names:\")\r\n",
        "print(iris_dataset['feature_names'])"
      ],
      "execution_count": 84,
      "outputs": [
        {
          "output_type": "stream",
          "text": [
            "Feature Names:\n",
            "['sepal length (cm)', 'sepal width (cm)', 'petal length (cm)', 'petal width (cm)']\n"
          ],
          "name": "stdout"
        }
      ]
    },
    {
      "cell_type": "code",
      "metadata": {
        "colab": {
          "base_uri": "https://localhost:8080/"
        },
        "id": "8KMRE6eJb5AI",
        "outputId": "c482168a-e990-4164-eaf5-ed38d2436933"
      },
      "source": [
        "#Values and type of key('data'):type of data is noted here coz we need to know what kind of data we r gonna work [numpy comes into attack ;)]\r\n",
        "print(\"Type of data: {}\".format(type(iris_dataset['data'])))"
      ],
      "execution_count": 85,
      "outputs": [
        {
          "output_type": "stream",
          "text": [
            "Type of data: <class 'numpy.ndarray'>\n"
          ],
          "name": "stdout"
        }
      ]
    },
    {
      "cell_type": "code",
      "metadata": {
        "colab": {
          "base_uri": "https://localhost:8080/"
        },
        "id": "5yavktqWjAwx",
        "outputId": "a14e1bd9-49f6-481d-c3c1-64c5682ee13e"
      },
      "source": [
        "#Shape of data is (row,column)\r\n",
        "print(\"Shape of data: {}\".format(iris_dataset['data'].shape))"
      ],
      "execution_count": 86,
      "outputs": [
        {
          "output_type": "stream",
          "text": [
            "Shape of data: (150, 4)\n"
          ],
          "name": "stdout"
        }
      ]
    },
    {
      "cell_type": "code",
      "metadata": {
        "colab": {
          "base_uri": "https://localhost:8080/"
        },
        "id": "WEsZLtTwkA0F",
        "outputId": "aaf033b2-a697-42e6-c40b-733be462eeb8"
      },
      "source": [
        "# and now the data itself \r\n",
        "print(\"First five rows of data: \\n{}\".format(iris_dataset['data'\r\n",
        "][:5]))"
      ],
      "execution_count": 87,
      "outputs": [
        {
          "output_type": "stream",
          "text": [
            "First five rows of data: \n",
            "[[5.1 3.5 1.4 0.2]\n",
            " [4.9 3.  1.4 0.2]\n",
            " [4.7 3.2 1.3 0.2]\n",
            " [4.6 3.1 1.5 0.2]\n",
            " [5.  3.6 1.4 0.2]]\n"
          ],
          "name": "stdout"
        }
      ]
    },
    {
      "cell_type": "code",
      "metadata": {
        "colab": {
          "base_uri": "https://localhost:8080/"
        },
        "id": "LS3CGX-lkbTS",
        "outputId": "f5ad2479-3ec0-412d-a3f3-bbf0e3571f6c"
      },
      "source": [
        "#Target,shape and type of key(target) \r\n",
        "print(\"Types of target: {}\".format(type(iris_dataset['target'])))"
      ],
      "execution_count": 88,
      "outputs": [
        {
          "output_type": "stream",
          "text": [
            "Types of target: <class 'numpy.ndarray'>\n"
          ],
          "name": "stdout"
        }
      ]
    },
    {
      "cell_type": "code",
      "metadata": {
        "colab": {
          "base_uri": "https://localhost:8080/"
        },
        "id": "pZmW_xntlhQ5",
        "outputId": "a9adbdb6-ea53-409b-b53b-e861d4f7bdf6"
      },
      "source": [
        "print(\"Shape of Target: {}\".format(iris_dataset['target'].shape))"
      ],
      "execution_count": 89,
      "outputs": [
        {
          "output_type": "stream",
          "text": [
            "Shape of Target: (150,)\n"
          ],
          "name": "stdout"
        }
      ]
    },
    {
      "cell_type": "code",
      "metadata": {
        "colab": {
          "base_uri": "https://localhost:8080/"
        },
        "id": "grz93yysmUUX",
        "outputId": "f4c7acb5-1a4e-48bd-dad4-8a447d71d88e"
      },
      "source": [
        "print(\"Target: {}\".format(iris_dataset['target']))"
      ],
      "execution_count": 90,
      "outputs": [
        {
          "output_type": "stream",
          "text": [
            "Target: [0 0 0 0 0 0 0 0 0 0 0 0 0 0 0 0 0 0 0 0 0 0 0 0 0 0 0 0 0 0 0 0 0 0 0 0 0\n",
            " 0 0 0 0 0 0 0 0 0 0 0 0 0 1 1 1 1 1 1 1 1 1 1 1 1 1 1 1 1 1 1 1 1 1 1 1 1\n",
            " 1 1 1 1 1 1 1 1 1 1 1 1 1 1 1 1 1 1 1 1 1 1 1 1 1 1 2 2 2 2 2 2 2 2 2 2 2\n",
            " 2 2 2 2 2 2 2 2 2 2 2 2 2 2 2 2 2 2 2 2 2 2 2 2 2 2 2 2 2 2 2 2 2 2 2 2 2\n",
            " 2 2]\n"
          ],
          "name": "stdout"
        }
      ]
    },
    {
      "cell_type": "code",
      "metadata": {
        "id": "tFh7K_Rtmy-C"
      },
      "source": [
        "##From now we will be training the data (that's what machine learning is after all)\r\n",
        "#we will import trainer who will split the test from sklearn package \r\n",
        "from sklearn.model_selection import train_test_split\r\n",
        "X_train,X_test,y_train,y_test=train_test_split(iris_dataset['data'],iris_dataset['target'],random_state=0)"
      ],
      "execution_count": 91,
      "outputs": []
    },
    {
      "cell_type": "code",
      "metadata": {
        "colab": {
          "base_uri": "https://localhost:8080/"
        },
        "id": "y62bcc8jog_X",
        "outputId": "f9f4fc0b-2a52-441b-f303-3de18da88f35"
      },
      "source": [
        "#So we shall see the shape after spliting them for training and testing\r\n",
        "print(\"X-train shape: {}\".format(X_train.shape))\r\n",
        "print(\"Y-train shape: {}\".format(y_train.shape))\r\n",
        "print(\"X-test shape: {}\".format(X_test.shape))\r\n",
        "print(\"Y-test shape: {}\".format(y_test.shape))"
      ],
      "execution_count": 92,
      "outputs": [
        {
          "output_type": "stream",
          "text": [
            "X-train shape: (112, 4)\n",
            "Y-train shape: (112,)\n",
            "X-test shape: (38, 4)\n",
            "Y-test shape: (38,)\n"
          ],
          "name": "stdout"
        }
      ]
    },
    {
      "cell_type": "code",
      "metadata": {
        "id": "dlXiRCvbvg-9"
      },
      "source": [
        "#We are inheriting the ML model and gonna implement the the K-nearest classifier algo.\r\n",
        "from sklearn.neighbors import KNeighborsClassifier\r\n",
        "knn= KNeighborsClassifier(n_neighbors = 1)"
      ],
      "execution_count": 93,
      "outputs": []
    },
    {
      "cell_type": "code",
      "metadata": {
        "colab": {
          "base_uri": "https://localhost:8080/"
        },
        "id": "avIuAx0T90aq",
        "outputId": "07f25f13-2569-4230-908d-9d96cf7b93ce"
      },
      "source": [
        "#Now let's provide the model the trainer kit so that it would learn and fit \r\n",
        "knn.fit(X_train,y_train)"
      ],
      "execution_count": 94,
      "outputs": [
        {
          "output_type": "execute_result",
          "data": {
            "text/plain": [
              "KNeighborsClassifier(algorithm='auto', leaf_size=30, metric='minkowski',\n",
              "                     metric_params=None, n_jobs=None, n_neighbors=1, p=2,\n",
              "                     weights='uniform')"
            ]
          },
          "metadata": {
            "tags": []
          },
          "execution_count": 94
        }
      ]
    },
    {
      "cell_type": "code",
      "metadata": {
        "colab": {
          "base_uri": "https://localhost:8080/"
        },
        "id": "jwpgi5H7-KgR",
        "outputId": "f62ec7ac-5491-4f2d-8777-0e0023a5dda5"
      },
      "source": [
        "#It's testing time ; lets initialise the new variable:\r\n",
        "X_new = np.array([[5,2.9,3,2.2]])\r\n",
        "print(\"X-new shape : {}\".format(X_new.shape))"
      ],
      "execution_count": 95,
      "outputs": [
        {
          "output_type": "stream",
          "text": [
            "X-new shape : (1, 4)\n"
          ],
          "name": "stdout"
        }
      ]
    },
    {
      "cell_type": "code",
      "metadata": {
        "colab": {
          "base_uri": "https://localhost:8080/"
        },
        "id": "iD0C9izNANVs",
        "outputId": "ba48e5dc-6084-42aa-f261-801ec2da2de5"
      },
      "source": [
        "#Let's give a small test:\r\n",
        "prediction = knn.predict(X_new)\r\n",
        "print(\"Prediction: {}\".format(prediction))\r\n",
        "print(\"Prediction target_name: {}\".format(iris_dataset['target_names'][prediction]))"
      ],
      "execution_count": 96,
      "outputs": [
        {
          "output_type": "stream",
          "text": [
            "Prediction: [1]\n",
            "Prediction target_name: ['versicolor']\n"
          ],
          "name": "stdout"
        }
      ]
    },
    {
      "cell_type": "code",
      "metadata": {
        "colab": {
          "base_uri": "https://localhost:8080/"
        },
        "id": "FAmvxDYJBmjN",
        "outputId": "a2c8ec0d-2b9d-447f-ae83-e8a4e786de2e"
      },
      "source": [
        "# Let's evaluate our model on our test data\r\n",
        "y_predict = knn.predict(X_test)\r\n",
        "print(\"Test set predictions: \\n {}\".format(y_predict)) "
      ],
      "execution_count": 97,
      "outputs": [
        {
          "output_type": "stream",
          "text": [
            "Test set predictions: \n",
            " [2 1 0 2 0 2 0 1 1 1 2 1 1 1 1 0 1 1 0 0 2 1 0 0 2 0 0 1 1 0 2 1 0 2 2 1 0\n",
            " 2]\n"
          ],
          "name": "stdout"
        }
      ]
    },
    {
      "cell_type": "code",
      "metadata": {
        "colab": {
          "base_uri": "https://localhost:8080/"
        },
        "id": "ITaGrs_kCOsM",
        "outputId": "eba89908-4ae5-4e88-99c6-2985a5a76457"
      },
      "source": [
        "# Our model's prediction has come and let's check it out with our test answer's value that we have saved \r\n",
        "print(\"test set score: {}\".format(np.mean(y_predict==y_test)))"
      ],
      "execution_count": 98,
      "outputs": [
        {
          "output_type": "stream",
          "text": [
            "test set score: 0.9736842105263158\n"
          ],
          "name": "stdout"
        }
      ]
    },
    {
      "cell_type": "markdown",
      "metadata": {
        "id": "A1ZBdpwxEia8"
      },
      "source": [
        "That's it . Our model has scored 0.973/1 ; We have scored a marvallous credit\r\n"
      ]
    }
  ]
}